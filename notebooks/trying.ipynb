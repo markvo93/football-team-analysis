{
 "cells": [
  {
   "cell_type": "code",
   "execution_count": 1,
   "metadata": {},
   "outputs": [],
   "source": [
    "import pandas as pd"
   ]
  },
  {
   "cell_type": "code",
   "execution_count": 5,
   "metadata": {},
   "outputs": [
    {
     "data": {
      "text/plain": [
       "Index(['Squad', '# Pl', '90s', 'CrdY', 'CrdR', '2CrdY', 'Fls', 'Fld', 'Off',\n",
       "       'Crs', 'Int', 'TklW', 'PKwon', 'PKcon', 'OG', 'Recov', 'Won', 'Lost',\n",
       "       'Won%'],\n",
       "      dtype='object')"
      ]
     },
     "execution_count": 5,
     "metadata": {},
     "output_type": "execute_result"
    }
   ],
   "source": [
    "data = \"/Users/markvollmer/Documents/Python Projekte/football-analysis/data/raw_data/2022/misc_2022.csv\"\n",
    "\n",
    "df = pd.read_csv(data)\n",
    "\n",
    "df.columns"
   ]
  },
  {
   "cell_type": "code",
   "execution_count": 22,
   "metadata": {},
   "outputs": [
    {
     "ename": "TypeError",
     "evalue": "glob() takes 1 positional argument but 2 were given",
     "output_type": "error",
     "traceback": [
      "\u001b[0;31m---------------------------------------------------------------------------\u001b[0m",
      "\u001b[0;31mTypeError\u001b[0m                                 Traceback (most recent call last)",
      "\u001b[1;32m/Users/markvollmer/Documents/Python Projekte/football-analysis/notebooks/trying.ipynb Zelle 3\u001b[0m line \u001b[0;36m5\n\u001b[1;32m      <a href='vscode-notebook-cell:/Users/markvollmer/Documents/Python%20Projekte/football-analysis/notebooks/trying.ipynb#W2sZmlsZQ%3D%3D?line=1'>2</a>\u001b[0m \u001b[39mimport\u001b[39;00m \u001b[39mos\u001b[39;00m\n\u001b[1;32m      <a href='vscode-notebook-cell:/Users/markvollmer/Documents/Python%20Projekte/football-analysis/notebooks/trying.ipynb#W2sZmlsZQ%3D%3D?line=3'>4</a>\u001b[0m path \u001b[39m=\u001b[39m \u001b[39m\"\u001b[39m\u001b[39m/Users/markvollmer/Documents/Python Projekte/football-analysis/data/raw_data/2022\u001b[39m\u001b[39m\"\u001b[39m\n\u001b[0;32m----> <a href='vscode-notebook-cell:/Users/markvollmer/Documents/Python%20Projekte/football-analysis/notebooks/trying.ipynb#W2sZmlsZQ%3D%3D?line=4'>5</a>\u001b[0m filenames \u001b[39m=\u001b[39m glob\u001b[39m.\u001b[39;49mglob(path , \u001b[39m\"\u001b[39;49m\u001b[39m/*.csv\u001b[39;49m\u001b[39m\"\u001b[39;49m)\n\u001b[1;32m      <a href='vscode-notebook-cell:/Users/markvollmer/Documents/Python%20Projekte/football-analysis/notebooks/trying.ipynb#W2sZmlsZQ%3D%3D?line=6'>7</a>\u001b[0m \u001b[39mprint\u001b[39m(\u001b[39m\"\u001b[39m\u001b[39mPfad:\u001b[39m\u001b[39m\"\u001b[39m, path)\n\u001b[1;32m      <a href='vscode-notebook-cell:/Users/markvollmer/Documents/Python%20Projekte/football-analysis/notebooks/trying.ipynb#W2sZmlsZQ%3D%3D?line=7'>8</a>\u001b[0m \u001b[39mprint\u001b[39m(\u001b[39m\"\u001b[39m\u001b[39mAnzahl gefundener Dateien:\u001b[39m\u001b[39m\"\u001b[39m, \u001b[39mlen\u001b[39m(filenames))\n",
      "\u001b[0;31mTypeError\u001b[0m: glob() takes 1 positional argument but 2 were given"
     ]
    }
   ],
   "source": [
    "import glob\n",
    "import os\n",
    "\n",
    "path = \"/Users/markvollmer/Documents/Python Projekte/football-analysis/data/raw_data/2022\"\n",
    "filenames = glob.glob(path , \"/*.csv\")\n",
    "\n",
    "print(\"Pfad:\", path)\n",
    "print(\"Anzahl gefundener Dateien:\", len(filenames))\n",
    "print(\"Gefundene Dateien:\", filenames)\n",
    "\n"
   ]
  },
  {
   "cell_type": "code",
   "execution_count": 31,
   "metadata": {},
   "outputs": [
    {
     "name": "stdout",
     "output_type": "stream",
     "text": [
      "Named explicitly:\n"
     ]
    }
   ],
   "source": [
    "print('Named explicitly:') \n",
    "for name in glob.glob('data/raw_data/2022/*'): \n",
    "    print(name) \n"
   ]
  },
  {
   "cell_type": "code",
   "execution_count": 23,
   "metadata": {},
   "outputs": [],
   "source": [
    "li = []\n",
    "\n",
    "for filename in filenames:\n",
    "    df = pd.read_csv(filename, index_col=None, header=0)\n",
    "    li.append(df)"
   ]
  },
  {
   "cell_type": "code",
   "execution_count": 24,
   "metadata": {},
   "outputs": [
    {
     "data": {
      "text/plain": [
       "[]"
      ]
     },
     "execution_count": 24,
     "metadata": {},
     "output_type": "execute_result"
    }
   ],
   "source": [
    "li"
   ]
  },
  {
   "cell_type": "code",
   "execution_count": 34,
   "metadata": {},
   "outputs": [
    {
     "name": "stdout",
     "output_type": "stream",
     "text": [
      "Successfully created dataframe for ../data/raw_data/2022/passing_2022.csv with shape (18, 26)\n",
      "Successfully created dataframe for ../data/raw_data/2022/standard_2022.csv with shape (18, 32)\n",
      "Successfully created dataframe for ../data/raw_data/2022/possesion_2022.csv with shape (18, 26)\n",
      "Successfully created dataframe for ../data/raw_data/2022/goal_shot_creation_2022.csv with shape (18, 19)\n",
      "Successfully created dataframe for ../data/raw_data/2022/misc_2022.csv with shape (18, 19)\n",
      "Successfully created dataframe for ../data/raw_data/2022/regular_season_2022.csv with shape (18, 19)\n",
      "Successfully created dataframe for ../data/raw_data/2022/pass_types_2022.csv with shape (18, 18)\n",
      "Successfully created dataframe for ../data/raw_data/2022/defensive_action_2022.csv with shape (18, 19)\n"
     ]
    }
   ],
   "source": [
    "# set search path and glob for files\n",
    "# here we want to look for csv files in the input directory\n",
    "path = \"../data/raw_data/2022\"\n",
    "files = glob.glob(path + '/*.csv')\n",
    "\n",
    "# create empty list to store dataframes\n",
    "li = []\n",
    "\n",
    "# loop through list of files and read each one into a dataframe and append to list\n",
    "for f in files:\n",
    "    # read in csv\n",
    "    temp_df = pd.read_csv(f)\n",
    "    # append df to list\n",
    "    li.append(temp_df)\n",
    "    print(f'Successfully created dataframe for {f} with shape {temp_df.shape}')"
   ]
  },
  {
   "cell_type": "code",
   "execution_count": 38,
   "metadata": {},
   "outputs": [],
   "source": [
    "path = \"../data/raw_data/2022\"\n",
    "all_fileeees = glob.glob(path + '/*.csv')"
   ]
  },
  {
   "cell_type": "code",
   "execution_count": 39,
   "metadata": {},
   "outputs": [
    {
     "data": {
      "text/plain": [
       "['../data/raw_data/2022/passing_2022.csv',\n",
       " '../data/raw_data/2022/standard_2022.csv',\n",
       " '../data/raw_data/2022/possesion_2022.csv',\n",
       " '../data/raw_data/2022/goal_shot_creation_2022.csv',\n",
       " '../data/raw_data/2022/misc_2022.csv',\n",
       " '../data/raw_data/2022/regular_season_2022.csv',\n",
       " '../data/raw_data/2022/pass_types_2022.csv',\n",
       " '../data/raw_data/2022/defensive_action_2022.csv']"
      ]
     },
     "execution_count": 39,
     "metadata": {},
     "output_type": "execute_result"
    }
   ],
   "source": [
    "all_fileeees"
   ]
  },
  {
   "cell_type": "markdown",
   "metadata": {},
   "source": []
  },
  {
   "cell_type": "code",
   "execution_count": 56,
   "metadata": {},
   "outputs": [
    {
     "name": "stdout",
     "output_type": "stream",
     "text": [
      "Datei ../data/raw_data/2022/passing_2022.csv wurde bearbeitet und gespeichert.\n",
      "Datei ../data/raw_data/2022/standard_2022.csv wurde bearbeitet und gespeichert.\n",
      "Datei ../data/raw_data/2022/possesion_2022.csv wurde bearbeitet und gespeichert.\n",
      "Datei ../data/raw_data/2022/goal_shot_creation_2022.csv wurde bearbeitet und gespeichert.\n",
      "Datei ../data/raw_data/2022/misc_2022.csv wurde bearbeitet und gespeichert.\n"
     ]
    },
    {
     "ename": "KeyError",
     "evalue": "\"['# Pl'] not found in axis\"",
     "output_type": "error",
     "traceback": [
      "\u001b[0;31m---------------------------------------------------------------------------\u001b[0m",
      "\u001b[0;31mKeyError\u001b[0m                                  Traceback (most recent call last)",
      "\u001b[1;32m/Users/markvollmer/Documents/Python Projekte/football-analysis/notebooks/trying.ipynb Zelle 11\u001b[0m line \u001b[0;36m2\n\u001b[1;32m     <a href='vscode-notebook-cell:/Users/markvollmer/Documents/Python%20Projekte/football-analysis/notebooks/trying.ipynb#X12sZmlsZQ%3D%3D?line=18'>19</a>\u001b[0m daten \u001b[39m=\u001b[39m pd\u001b[39m.\u001b[39mread_csv(file)\n\u001b[1;32m     <a href='vscode-notebook-cell:/Users/markvollmer/Documents/Python%20Projekte/football-analysis/notebooks/trying.ipynb#X12sZmlsZQ%3D%3D?line=20'>21</a>\u001b[0m \u001b[39m# Lösche die gewünschte Spalte\u001b[39;00m\n\u001b[0;32m---> <a href='vscode-notebook-cell:/Users/markvollmer/Documents/Python%20Projekte/football-analysis/notebooks/trying.ipynb#X12sZmlsZQ%3D%3D?line=21'>22</a>\u001b[0m daten \u001b[39m=\u001b[39m daten\u001b[39m.\u001b[39;49mdrop(columns\u001b[39m=\u001b[39;49m[\u001b[39m\"\u001b[39;49m\u001b[39m# Pl\u001b[39;49m\u001b[39m\"\u001b[39;49m])\n\u001b[1;32m     <a href='vscode-notebook-cell:/Users/markvollmer/Documents/Python%20Projekte/football-analysis/notebooks/trying.ipynb#X12sZmlsZQ%3D%3D?line=23'>24</a>\u001b[0m \u001b[39m# Speichere das bearbeitete DataFrame in einer neuen CSV-Datei im Zielordner\u001b[39;00m\n\u001b[1;32m     <a href='vscode-notebook-cell:/Users/markvollmer/Documents/Python%20Projekte/football-analysis/notebooks/trying.ipynb#X12sZmlsZQ%3D%3D?line=24'>25</a>\u001b[0m neuer_datei_name \u001b[39m=\u001b[39m os\u001b[39m.\u001b[39mpath\u001b[39m.\u001b[39mjoin(directory, \u001b[39mf\u001b[39m\u001b[39m'\u001b[39m\u001b[39mpreprocessed_\u001b[39m\u001b[39m{\u001b[39;00mfile\u001b[39m.\u001b[39msplit(\u001b[39m\"\u001b[39m\u001b[39m/\u001b[39m\u001b[39m\"\u001b[39m)[\u001b[39m-\u001b[39m\u001b[39m1\u001b[39m]\u001b[39m}\u001b[39;00m\u001b[39m'\u001b[39m)\n",
      "File \u001b[0;32m~/Documents/Python Projekte/football-analysis/football_analysis/lib/python3.11/site-packages/pandas/core/frame.py:5344\u001b[0m, in \u001b[0;36mDataFrame.drop\u001b[0;34m(self, labels, axis, index, columns, level, inplace, errors)\u001b[0m\n\u001b[1;32m   5196\u001b[0m \u001b[39mdef\u001b[39;00m \u001b[39mdrop\u001b[39m(\n\u001b[1;32m   5197\u001b[0m     \u001b[39mself\u001b[39m,\n\u001b[1;32m   5198\u001b[0m     labels: IndexLabel \u001b[39m|\u001b[39m \u001b[39mNone\u001b[39;00m \u001b[39m=\u001b[39m \u001b[39mNone\u001b[39;00m,\n\u001b[0;32m   (...)\u001b[0m\n\u001b[1;32m   5205\u001b[0m     errors: IgnoreRaise \u001b[39m=\u001b[39m \u001b[39m\"\u001b[39m\u001b[39mraise\u001b[39m\u001b[39m\"\u001b[39m,\n\u001b[1;32m   5206\u001b[0m ) \u001b[39m-\u001b[39m\u001b[39m>\u001b[39m DataFrame \u001b[39m|\u001b[39m \u001b[39mNone\u001b[39;00m:\n\u001b[1;32m   5207\u001b[0m \u001b[39m    \u001b[39m\u001b[39m\"\"\"\u001b[39;00m\n\u001b[1;32m   5208\u001b[0m \u001b[39m    Drop specified labels from rows or columns.\u001b[39;00m\n\u001b[1;32m   5209\u001b[0m \n\u001b[0;32m   (...)\u001b[0m\n\u001b[1;32m   5342\u001b[0m \u001b[39m            weight  1.0     0.8\u001b[39;00m\n\u001b[1;32m   5343\u001b[0m \u001b[39m    \"\"\"\u001b[39;00m\n\u001b[0;32m-> 5344\u001b[0m     \u001b[39mreturn\u001b[39;00m \u001b[39msuper\u001b[39;49m()\u001b[39m.\u001b[39;49mdrop(\n\u001b[1;32m   5345\u001b[0m         labels\u001b[39m=\u001b[39;49mlabels,\n\u001b[1;32m   5346\u001b[0m         axis\u001b[39m=\u001b[39;49maxis,\n\u001b[1;32m   5347\u001b[0m         index\u001b[39m=\u001b[39;49mindex,\n\u001b[1;32m   5348\u001b[0m         columns\u001b[39m=\u001b[39;49mcolumns,\n\u001b[1;32m   5349\u001b[0m         level\u001b[39m=\u001b[39;49mlevel,\n\u001b[1;32m   5350\u001b[0m         inplace\u001b[39m=\u001b[39;49minplace,\n\u001b[1;32m   5351\u001b[0m         errors\u001b[39m=\u001b[39;49merrors,\n\u001b[1;32m   5352\u001b[0m     )\n",
      "File \u001b[0;32m~/Documents/Python Projekte/football-analysis/football_analysis/lib/python3.11/site-packages/pandas/core/generic.py:4711\u001b[0m, in \u001b[0;36mNDFrame.drop\u001b[0;34m(self, labels, axis, index, columns, level, inplace, errors)\u001b[0m\n\u001b[1;32m   4709\u001b[0m \u001b[39mfor\u001b[39;00m axis, labels \u001b[39min\u001b[39;00m axes\u001b[39m.\u001b[39mitems():\n\u001b[1;32m   4710\u001b[0m     \u001b[39mif\u001b[39;00m labels \u001b[39mis\u001b[39;00m \u001b[39mnot\u001b[39;00m \u001b[39mNone\u001b[39;00m:\n\u001b[0;32m-> 4711\u001b[0m         obj \u001b[39m=\u001b[39m obj\u001b[39m.\u001b[39;49m_drop_axis(labels, axis, level\u001b[39m=\u001b[39;49mlevel, errors\u001b[39m=\u001b[39;49merrors)\n\u001b[1;32m   4713\u001b[0m \u001b[39mif\u001b[39;00m inplace:\n\u001b[1;32m   4714\u001b[0m     \u001b[39mself\u001b[39m\u001b[39m.\u001b[39m_update_inplace(obj)\n",
      "File \u001b[0;32m~/Documents/Python Projekte/football-analysis/football_analysis/lib/python3.11/site-packages/pandas/core/generic.py:4753\u001b[0m, in \u001b[0;36mNDFrame._drop_axis\u001b[0;34m(self, labels, axis, level, errors, only_slice)\u001b[0m\n\u001b[1;32m   4751\u001b[0m         new_axis \u001b[39m=\u001b[39m axis\u001b[39m.\u001b[39mdrop(labels, level\u001b[39m=\u001b[39mlevel, errors\u001b[39m=\u001b[39merrors)\n\u001b[1;32m   4752\u001b[0m     \u001b[39melse\u001b[39;00m:\n\u001b[0;32m-> 4753\u001b[0m         new_axis \u001b[39m=\u001b[39m axis\u001b[39m.\u001b[39;49mdrop(labels, errors\u001b[39m=\u001b[39;49merrors)\n\u001b[1;32m   4754\u001b[0m     indexer \u001b[39m=\u001b[39m axis\u001b[39m.\u001b[39mget_indexer(new_axis)\n\u001b[1;32m   4756\u001b[0m \u001b[39m# Case for non-unique axis\u001b[39;00m\n\u001b[1;32m   4757\u001b[0m \u001b[39melse\u001b[39;00m:\n",
      "File \u001b[0;32m~/Documents/Python Projekte/football-analysis/football_analysis/lib/python3.11/site-packages/pandas/core/indexes/base.py:6992\u001b[0m, in \u001b[0;36mIndex.drop\u001b[0;34m(self, labels, errors)\u001b[0m\n\u001b[1;32m   6990\u001b[0m \u001b[39mif\u001b[39;00m mask\u001b[39m.\u001b[39many():\n\u001b[1;32m   6991\u001b[0m     \u001b[39mif\u001b[39;00m errors \u001b[39m!=\u001b[39m \u001b[39m\"\u001b[39m\u001b[39mignore\u001b[39m\u001b[39m\"\u001b[39m:\n\u001b[0;32m-> 6992\u001b[0m         \u001b[39mraise\u001b[39;00m \u001b[39mKeyError\u001b[39;00m(\u001b[39mf\u001b[39m\u001b[39m\"\u001b[39m\u001b[39m{\u001b[39;00mlabels[mask]\u001b[39m.\u001b[39mtolist()\u001b[39m}\u001b[39;00m\u001b[39m not found in axis\u001b[39m\u001b[39m\"\u001b[39m)\n\u001b[1;32m   6993\u001b[0m     indexer \u001b[39m=\u001b[39m indexer[\u001b[39m~\u001b[39mmask]\n\u001b[1;32m   6994\u001b[0m \u001b[39mreturn\u001b[39;00m \u001b[39mself\u001b[39m\u001b[39m.\u001b[39mdelete(indexer)\n",
      "\u001b[0;31mKeyError\u001b[0m: \"['# Pl'] not found in axis\""
     ]
    }
   ],
   "source": [
    "# import all csv files from the folder 'data'\n",
    "path = \"../data/raw_data/2022\"\n",
    "all_files = glob.glob(path + '/*.csv')\n",
    "\n",
    "# Name der Spalte, die gelöscht werden soll\n",
    "unnecessary_column = '# Pl'\n",
    "\n",
    "# Zielordner für die bearbeiteten Dateien\n",
    "directory = '../data/preprocessed_data/2022'\n",
    "\n",
    "# Erstelle den Zielordner, wenn er nicht existiert\n",
    "if not os.path.exists(directory):\n",
    "    os.makedirs(directory)\n",
    "    print(\"Zielordner wurde erstellt.\")\n",
    "\n",
    "# Iteriere über jede Datei\n",
    "for file in all_files:\n",
    "    # Lade die CSV-Datei in ein DataFrame\n",
    "    daten = pd.read_csv(file)\n",
    "\n",
    "    # Lösche die gewünschte Spalte\n",
    "    if unnecessary_column in daten.columns:\n",
    "        daten = daten.drop(unnecessary_column, axis=1)\n",
    "        print(f\"Spalte {unnecessary_column} wurde gelöscht.\")\n",
    "    else:\n",
    "        print(f\"Spalte {unnecessary_column} wurde nicht gefunden.\")\n",
    "        continue\n",
    "\n",
    "\n",
    "    # Speichere das bearbeitete DataFrame in einer neuen CSV-Datei im Zielordner\n",
    "    neuer_datei_name = os.path.join(directory, f'preprocessed_{file.split(\"/\")[-1]}')\n",
    "    daten.to_csv(neuer_datei_name, index=False)\n",
    "    print(f\"Datei {file} wurde bearbeitet und gespeichert.\")"
   ]
  },
  {
   "cell_type": "code",
   "execution_count": 57,
   "metadata": {},
   "outputs": [],
   "source": [
    "path = \"../data/raw_data/2022\"\n",
    "all_files = glob.glob(path + '/*.csv')"
   ]
  },
  {
   "cell_type": "code",
   "execution_count": 51,
   "metadata": {},
   "outputs": [
    {
     "data": {
      "text/plain": [
       "['../data/raw_data/2022/passing_2022.csv',\n",
       " '../data/raw_data/2022/standard_2022.csv',\n",
       " '../data/raw_data/2022/possesion_2022.csv',\n",
       " '../data/raw_data/2022/goal_shot_creation_2022.csv',\n",
       " '../data/raw_data/2022/misc_2022.csv',\n",
       " '../data/raw_data/2022/regular_season_2022.csv',\n",
       " '../data/raw_data/2022/pass_types_2022.csv',\n",
       " '../data/raw_data/2022/defensive_action_2022.csv']"
      ]
     },
     "execution_count": 51,
     "metadata": {},
     "output_type": "execute_result"
    }
   ],
   "source": [
    "all_files"
   ]
  },
  {
   "cell_type": "code",
   "execution_count": 61,
   "metadata": {},
   "outputs": [
    {
     "data": {
      "text/plain": [
       "Index(['Rk', 'Squad', 'MP', 'W', 'D', 'L', 'GF', 'GA', 'GD', 'Pts', 'Pts/MP',\n",
       "       'xG', 'xGA', 'xGD', 'xGD/90', 'Attendance', 'Top Team Scorer',\n",
       "       'Goalkeeper', 'Notes'],\n",
       "      dtype='object')"
      ]
     },
     "execution_count": 61,
     "metadata": {},
     "output_type": "execute_result"
    }
   ],
   "source": [
    "df = pd.read_csv(all_files[5])\n",
    "df.columns"
   ]
  },
  {
   "cell_type": "code",
   "execution_count": null,
   "metadata": {},
   "outputs": [],
   "source": []
  }
 ],
 "metadata": {
  "kernelspec": {
   "display_name": "football_analysis",
   "language": "python",
   "name": "python3"
  },
  "language_info": {
   "codemirror_mode": {
    "name": "ipython",
    "version": 3
   },
   "file_extension": ".py",
   "mimetype": "text/x-python",
   "name": "python",
   "nbconvert_exporter": "python",
   "pygments_lexer": "ipython3",
   "version": "3.11.4"
  }
 },
 "nbformat": 4,
 "nbformat_minor": 2
}
